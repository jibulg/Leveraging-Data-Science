{
 "cells": [
  {
   "cell_type": "markdown",
   "metadata": {},
   "source": [
    "# Deploying Machine Learning Models"
   ]
  },
  {
   "cell_type": "markdown",
   "metadata": {},
   "source": [
    "## Client Test\n",
    "\n",
    "This part contains the client code used to test the server implementation. "
   ]
  },
  {
   "cell_type": "code",
   "execution_count": 2,
   "metadata": {},
   "outputs": [],
   "source": [
    "import requests\n",
    "import time\n",
    "\n",
    "def classify_request(\n",
    "    img_url, host='localhost', \n",
    "    port='9999', \n",
    "    path='classify'\n",
    "):\n",
    "    api_endpoint = 'http://{}:{}/{}'.format(host, port, path)\n",
    "    params = dict(img=img_url)\n",
    "    r = requests.get(api_endpoint, params=params)\n",
    "    \n",
    "    print('Request URL: {}'.format(r.url))\n",
    "    if r.status_code == 200:\n",
    "        print('Content Type: {}'.format(r.headers['content-type']))\n",
    "        return r.json()\n",
    "    else:\n",
    "        print('Status Code: {}'.format(r.status_code))"
   ]
  },
  {
   "cell_type": "markdown",
   "metadata": {},
   "source": [
    "With the server running in the other notebook, run the code below to make image classification requests. I can modify the time between requests or the image URLs as you desire. "
   ]
  },
  {
   "cell_type": "code",
   "execution_count": 3,
   "metadata": {},
   "outputs": [
    {
     "name": "stdout",
     "output_type": "stream",
     "text": [
      "Request URL: http://localhost:9999/classify?img=https%3A%2F%2Fstardewvalleywiki.com%2Fmediawiki%2Fimages%2Fa%2Fa4%2FBanner_Right_Winter.png\n",
      "Content Type: application/json\n",
      "{'src_img': 'https://stardewvalleywiki.com/mediawiki/images/a/a4/Banner_Right_Winter.png'}\n",
      "Request URL: http://localhost:9999/classify?img=https%3A%2F%2Fwww.stardewvalley.net%2Fwp-content%2Fuploads%2F2018%2F12%2F1_1screenshot15.png\n",
      "Content Type: application/json\n",
      "{'src_img': 'https://www.stardewvalley.net/wp-content/uploads/2018/12/1_1screenshot15.png'}\n"
     ]
    }
   ],
   "source": [
    "time_between_requests = 10\n",
    "\n",
    "# Add URLs for testing\n",
    "img_urls = ['https://stardewvalleywiki.com/mediawiki/images/a/a4/Banner_Right_Winter.png',\n",
    "            'https://www.stardewvalley.net/wp-content/uploads/2018/12/1_1screenshot15.png']\n",
    "\n",
    "for img_url in img_urls:\n",
    "    result = classify_request(img_url)\n",
    "    print(result)\n",
    "    time.sleep(time_between_requests)"
   ]
  },
  {
   "cell_type": "code",
   "execution_count": null,
   "metadata": {},
   "outputs": [],
   "source": []
  }
 ],
 "metadata": {
  "kernelspec": {
   "display_name": "Python 3 (ipykernel)",
   "language": "python",
   "name": "python3"
  },
  "language_info": {
   "codemirror_mode": {
    "name": "ipython",
    "version": 3
   },
   "file_extension": ".py",
   "mimetype": "text/x-python",
   "name": "python",
   "nbconvert_exporter": "python",
   "pygments_lexer": "ipython3",
   "version": "3.9.7"
  }
 },
 "nbformat": 4,
 "nbformat_minor": 4
}
