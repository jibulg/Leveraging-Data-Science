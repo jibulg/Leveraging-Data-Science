{
 "cells": [
  {
   "cell_type": "markdown",
   "metadata": {},
   "source": [
    "===========================================\n",
    "\n",
    "\n",
    "Gebil Jibul\n",
    "\n",
    "\n",
    "Description: This program demonstrates building a directory structure for a small retail business' data lake. \n",
    "\n",
    "\n",
    "=========================================== "
   ]
  },
  {
   "cell_type": "markdown",
   "metadata": {},
   "source": [
    "# Acquiring and Storing Data"
   ]
  },
  {
   "cell_type": "markdown",
   "metadata": {
    "tags": []
   },
   "source": [
    "Assume that you are the owner of a small but growing retail business, *Datums R Us*. Your store sells technology, tools, and clothing for the discerning data scientist. You currently have stores in the following five locations. \n",
    "\n",
    "- Bellevue, Nebraska\n",
    "- Columbus, Ohio\n",
    "- Denver, Colorado\n",
    "- San Francisco, California\n",
    "- Baltimore, Maryland\n",
    "\n",
    "You have been tasked with creating a data lake for the company using a [directory structure based on Cookiecutter Data Science recommendations](https://drivendata.github.io/cookiecutter-data-science/#directory-structure). This basic directory structure works well for small, self-contained data science projects and organizing large-scale data warehouses.\n",
    "\n",
    "```\n",
    "├── data\n",
    "│   ├── external       <- Data from third-party sources.\n",
    "│   ├── interim        <- Intermediate data that has been transformed.\n",
    "│   ├── processed      <- The final, canonical data sets for modeling and reports.\n",
    "│   └── raw            <- The original, immutable data dump.\n",
    "```\n",
    "\n",
    "You have identified the following items for initial inclusion in the data lake. \n",
    "\n",
    "**External Data Sets**\n",
    "\n",
    "- Census (Updated Yearly)\n",
    "- Weather Forecasts (Updated Daily)\n",
    "\n",
    "**Raw Data Dumps**\n",
    "\n",
    "- Sales (Updated Hourly)\n",
    "- Inventory (Updated Daily)\n",
    "- Expenses (Updated Daily)\n",
    "\n",
    "**Processed Data Sets and Reports**\n",
    "\n",
    "*Weekly*\n",
    "\n",
    "- Modeling Data Set\n",
    "\n",
    "*Monthly*\n",
    "\n",
    "- Inventory Update Request\n",
    "\n",
    "*Quarterly*\n",
    "\n",
    "- Quarterly Financial Report"
   ]
  },
  {
   "cell_type": "markdown",
   "metadata": {},
   "source": [
    "In the first part, I will describe the directory structure for the data lake. For the most part, this directory structure will not depend on the technical details of how I store the data. I could be storing the data in a local filesystem, a distributed filesystem such as HDFS, or object storage, such as Amazon S3. \n",
    "\n",
    "I will only be creating the directory structures and not populating actual content. Real-world data lakes store data in a variety of formats including,  Apache Parquet, Google Protocol Buffers, Apache Avro, JSONL, and CSV. \n",
    "\n",
    "I will use Python's built-in [calendar library](https://docs.python.org/3/library/calendar.html), and [datetime library](https://docs.python.org/3/library/datetime.html) to work with the dates and times required for this assignment. I will use the [PurePosixPath](https://docs.python.org/3/library/pathlib.html#pathlib.PurePosixPath) class from Python's built-in [pathlib library](https://docs.python.org/3/library/pathlib.html) to represent locations on the data lake. \n",
    "\n",
    "I will generate the output directories for an entire year's worth of data starting on January 1st of this year, all times will be in Coordinated Universal Time (UTC). "
   ]
  },
  {
   "cell_type": "code",
   "execution_count": 1,
   "metadata": {},
   "outputs": [],
   "source": [
    "# Imports the required Python libraries and \n",
    "# sets global variables for the assignment\n",
    "import calendar\n",
    "import datetime\n",
    "from pathlib import PurePosixPath\n",
    "\n",
    "today = datetime.date.today()\n",
    "current_year = today.year\n",
    "days_in_year = 365\n",
    "\n",
    "if calendar.isleap(current_year):\n",
    "    days_in_year +=1\n",
    "\n",
    "hours_in_year = days_in_year * 24"
   ]
  },
  {
   "cell_type": "code",
   "execution_count": 2,
   "metadata": {},
   "outputs": [
    {
     "name": "stdout",
     "output_type": "stream",
     "text": [
      "Root Data Directory: /data\n",
      "External Data Directory: /data/external\n",
      "Interim Data Directory: /data/interim\n",
      "Processed Data Directory: /data/processed\n",
      "Raw Data Directory: /data/raw\n"
     ]
    }
   ],
   "source": [
    "# Creates paths for the external, interim, processed, and raw directories\n",
    "# Use these paths when creating new paths\n",
    "\n",
    "root_data_dir = PurePosixPath('/data')\n",
    "external_data_dir = root_data_dir.joinpath('external')\n",
    "interim_data_dir = root_data_dir.joinpath('interim')\n",
    "processed_data_dir = root_data_dir.joinpath('processed')\n",
    "raw_data_dir = root_data_dir.joinpath('raw')\n",
    "\n",
    "print('Root Data Directory: {}'.format(root_data_dir))\n",
    "print('External Data Directory: {}'.format(external_data_dir))\n",
    "print('Interim Data Directory: {}'.format(interim_data_dir))\n",
    "print('Processed Data Directory: {}'.format(processed_data_dir))\n",
    "print('Raw Data Directory: {}'.format(raw_data_dir))"
   ]
  },
  {
   "cell_type": "code",
   "execution_count": 1,
   "metadata": {},
   "outputs": [
    {
     "ename": "SyntaxError",
     "evalue": "invalid syntax (Temp/ipykernel_7008/380149806.py, line 3)",
     "output_type": "error",
     "traceback": [
      "\u001b[1;36m  File \u001b[1;32m\"C:\\Users\\12162\\AppData\\Local\\Temp/ipykernel_7008/380149806.py\"\u001b[1;36m, line \u001b[1;32m3\u001b[0m\n\u001b[1;33m    - [American Community Survey (ACS) Summary File](https://www.census.gov/programs-surveys/acs/data/summary-file.html)\u001b[0m\n\u001b[1;37m                ^\u001b[0m\n\u001b[1;31mSyntaxError\u001b[0m\u001b[1;31m:\u001b[0m invalid syntax\n"
     ]
    }
   ],
   "source": [
    "#I will be using three Census data sets as examples of external data updated yearly. These data sets are:\n",
    "\n",
    "- [American Community Survey (ACS) Summary File](https://www.census.gov/programs-surveys/acs/data/summary-file.html)\n",
    "- [American Community Survey (ACS) Public Use Microdata Sample (PUMS)]( https://www.census.gov/programs-surveys/acs/microdata.html)\n",
    "- [Tiger/Line Shapefiles](https://www.census.gov/geographies/mapping-files/time-series/geo/tiger-line-file.html)\n",
    "\n",
    "If you are curious, you can find the actual data sets at the following locations: \n",
    "\n",
    "- [ACS Summary File](https://www2.census.gov/programs-surveys/acs/summary_file/)\n",
    "- [PUMS](https://www2.census.gov/programs-surveys/acs/data/pums/)\n",
    "- [Tiger](https://www2.census.gov/geo/tiger/)\n",
    "\n",
    "For this project, we use the following naming convention for external data sets\n",
    "\n",
    "```\n",
    "/data/external/<source>/<data-set>/<year>/\n",
    "```\n",
    "where *source* is the organization providing the data, *data-set* is the specific data set, and *year* is the year. \n",
    "\n",
    "```\n",
    "data\n",
    "├── external\n",
    "│   ├── census\n",
    "│   │   ├── acs-summaryfile\n",
    "│   │   │   ├── 2015\n",
    "│   │   │   ├── 2016\n",
    "│   │   │   ...\n",
    "│   │   │   ...\n",
    "│   │   │   └── 2019\n",
    "│   │   ├── pums\n",
    "│   │   │   ├── 2015\n",
    "│   │   │   ├── 2016\n",
    "│   │   │   ...\n",
    "│   │   │   ...\n",
    "│   │   │   └── 2020\n",
    "│   │   └── tiger\n",
    "│   │       ├── 2015\n",
    "│   │       ├── 2016\n",
    "│   │   │   ...\n",
    "│   │   │   ...\n",
    "│   │       └── 2020\n",
    "│   └── nwc-wpc\n",
    "├── interim\n",
    "├── processed\n",
    "└── raw\n",
    "```\n",
    "\n",
    "Create and add the paths for these data sets. Verify that you have added the paths correctly. "
   ]
  },
  {
   "cell_type": "code",
   "execution_count": 2,
   "metadata": {},
   "outputs": [],
   "source": [
    "acs_summary_file_dirs = set()\n",
    "pums_dirs = set()\n",
    "tiger_dirs = set()\n",
    "\n",
    "#Create and add the paths for this data set"
   ]
  },
  {
   "cell_type": "code",
   "execution_count": 3,
   "metadata": {},
   "outputs": [],
   "source": [
    "# Will generate directories to reduce repeated code\n",
    "# This function is continiously used throughout assignment\n",
    "def DirGenerator(root, dir_names, add_to=None):\n",
    "    paths = [root.joinpath(directory) for directory in dir_names]\n",
    "    # Appends to a set for refrence\n",
    "    if add_to is not None:\n",
    "        for path in paths:\n",
    "            add_to.add(format(path))"
   ]
  },
  {
   "cell_type": "code",
   "execution_count": 5,
   "metadata": {},
   "outputs": [
    {
     "data": {
      "text/plain": [
       "(['/data/external/census/acs-summaryfile/2015',\n",
       "  '/data/external/census/acs-summaryfile/2016',\n",
       "  '/data/external/census/acs-summaryfile/2017',\n",
       "  '/data/external/census/acs-summaryfile/2018',\n",
       "  '/data/external/census/acs-summaryfile/2019'],\n",
       " ['/data/external/census/pums/2015',\n",
       "  '/data/external/census/pums/2016',\n",
       "  '/data/external/census/pums/2017',\n",
       "  '/data/external/census/pums/2018',\n",
       "  '/data/external/census/pums/2019',\n",
       "  '/data/external/census/pums/2020'],\n",
       " ['/data/external/census/tiger/2015',\n",
       "  '/data/external/census/tiger/2016',\n",
       "  '/data/external/census/tiger/2017',\n",
       "  '/data/external/census/tiger/2018',\n",
       "  '/data/external/census/tiger/2019',\n",
       "  '/data/external/census/tiger/2020'])"
      ]
     },
     "execution_count": 5,
     "metadata": {},
     "output_type": "execute_result"
    }
   ],
   "source": [
    "# Creates initial directories\n",
    "census_data_dir = external_data_dir.joinpath('census')\n",
    "acs_summary_data_dir = census_data_dir.joinpath('acs-summaryfile')\n",
    "pums_data_dir = census_data_dir.joinpath('pums')\n",
    "tiger_data_dir = census_data_dir.joinpath('tiger')\n",
    "\n",
    "# Generates the directories\n",
    "years = ['2015', '2016', '2017', '2018', '2019']       \n",
    "DirGenerator(acs_summary_data_dir, years, add_to=acs_summary_file_dirs)\n",
    "\n",
    "years = ['2015', '2016', '2017', '2018', '2019', '2020']\n",
    "DirGenerator(pums_data_dir, years, add_to=pums_dirs)\n",
    "DirGenerator(tiger_data_dir, years, add_to=tiger_dirs)\n",
    "\n",
    "# Should output sorted directories from 2015 to present \n",
    "sorted(list(acs_summary_file_dirs)), sorted(list(pums_dirs)), sorted(list(tiger_dirs))"
   ]
  },
  {
   "cell_type": "markdown",
   "metadata": {},
   "source": [
    "Finally, I will create directories for a daily data set based on the [National Weather Service's (NWS) Weather Prediction Center's (WPC) daily forecasts](https://www.wpc.ncep.noaa.gov/kml/kmlproducts.php). \n",
    "\n",
    "For this part, I use the following naming convention\n",
    "\n",
    "```\n",
    "/data/external/nwc-wpc/forecasts/<year>/<month>/<day>/\n",
    "```\n",
    "where *year* is the year, *month* is the two-digit month, and *day* is the two-digit day. We use this convention when working with date-based data as the directories are naturally in date order. \n",
    "\n",
    "```\n",
    "data\n",
    "├── external\n",
    "│   ├── census\n",
    "│   └── nwc-wpc\n",
    "│       └── forecasts\n",
    "│           └── 2020\n",
    "│               ├── 01\n",
    "│               │   ├── 01\n",
    "│               │   ├── 02\n",
    "│               │   ├── 03\n",
    "│               │   ...\n",
    "│               │   ...\n",
    "│               │   ├── 30\n",
    "│               │   └── 31\n",
    "│               ├── 02\n",
    "│               │   ├── 01\n",
    "│               │   ├── 02\n",
    "│               │   ...\n",
    "│               │   ...\n",
    "│               │   ├── 28\n",
    "│               │   └── 29\n",
    "│               ├── 03\n",
    "│               ...\n",
    "│               ...\n",
    "│               ├── 11\n",
    "│               └── 12\n",
    "│                   ├── 01\n",
    "│                   ├── 02\n",
    "│                   ...\n",
    "│                   ...\n",
    "│                   ├── 29\n",
    "│                   ├── 30\n",
    "│                   └── 31\n",
    "├── interim\n",
    "├── processed\n",
    "└── raw\n",
    "```\n",
    "\n",
    "Create and add the paths for these data sets. Verify that you have added the paths correctly. "
   ]
  },
  {
   "cell_type": "code",
   "execution_count": 4,
   "metadata": {},
   "outputs": [],
   "source": [
    "# Code below is used to build dict structure {month: [days]}\n",
    "# Helpful for passing to function DirGenerator\n",
    "import calendar\n",
    "\n",
    "# Collapses dates in calander dates list\n",
    "def flatten(dates):\n",
    "    for i in dates:\n",
    "        if isinstance(i, list):\n",
    "            for j in flatten(i):\n",
    "                yield j\n",
    "        else:\n",
    "            yield i\n",
    "            \n",
    "\n",
    "cal = calendar.Calendar()\n",
    "year = 2020\n",
    "\n",
    "# Creates dict with {month: []} pairs\n",
    "dates = list(flatten(cal.yeardatescalendar(year)))\n",
    "months = set(str(date.month) for date in dates)\n",
    "month_days = {month: [] for month in months}\n",
    "\n",
    "# Adds list of values for each month's days within month_days\n",
    "for date in dates:\n",
    "    if str(date.day) not in month_days[str(date.month)]:\n",
    "        month_days[str(date.month)].append(str(date.day))\n",
    "\n",
    "# Creates padding with 0s (e.g., 1 to 01)\n",
    "padded_dict = {}\n",
    "for month, days in month_days.items():\n",
    "    days = [str(day.zfill(2)) for day in days]\n",
    "    padded_dict[str(month.zfill(2))] = list(days)\n",
    "    \n",
    "month_days = padded_dict"
   ]
  },
  {
   "cell_type": "code",
   "execution_count": 5,
   "metadata": {},
   "outputs": [
    {
     "ename": "NameError",
     "evalue": "name 'external_data_dir' is not defined",
     "output_type": "error",
     "traceback": [
      "\u001b[1;31m---------------------------------------------------------------------------\u001b[0m",
      "\u001b[1;31mNameError\u001b[0m                                 Traceback (most recent call last)",
      "\u001b[1;32m~\\AppData\\Local\\Temp/ipykernel_7008/4094767810.py\u001b[0m in \u001b[0;36m<module>\u001b[1;34m\u001b[0m\n\u001b[0;32m      4\u001b[0m \u001b[1;33m\u001b[0m\u001b[0m\n\u001b[0;32m      5\u001b[0m \u001b[1;31m# Creates initial directories\u001b[0m\u001b[1;33m\u001b[0m\u001b[1;33m\u001b[0m\u001b[0m\n\u001b[1;32m----> 6\u001b[1;33m \u001b[0mnwc_wpc_data_dir\u001b[0m \u001b[1;33m=\u001b[0m \u001b[0mexternal_data_dir\u001b[0m\u001b[1;33m.\u001b[0m\u001b[0mjoinpath\u001b[0m\u001b[1;33m(\u001b[0m\u001b[1;34m'nwc-wpc'\u001b[0m\u001b[1;33m)\u001b[0m\u001b[1;33m\u001b[0m\u001b[1;33m\u001b[0m\u001b[0m\n\u001b[0m\u001b[0;32m      7\u001b[0m \u001b[0mforecasts_data_dir\u001b[0m \u001b[1;33m=\u001b[0m \u001b[0mnwc_wpc_data_dir\u001b[0m\u001b[1;33m.\u001b[0m\u001b[0mjoinpath\u001b[0m\u001b[1;33m(\u001b[0m\u001b[1;34m'forecasts'\u001b[0m\u001b[1;33m)\u001b[0m\u001b[1;33m\u001b[0m\u001b[1;33m\u001b[0m\u001b[0m\n\u001b[0;32m      8\u001b[0m \u001b[0mfor2020_data_dir\u001b[0m \u001b[1;33m=\u001b[0m \u001b[0mforecasts_data_dir\u001b[0m\u001b[1;33m.\u001b[0m\u001b[0mjoinpath\u001b[0m\u001b[1;33m(\u001b[0m\u001b[1;34m'2020'\u001b[0m\u001b[1;33m)\u001b[0m\u001b[1;33m\u001b[0m\u001b[1;33m\u001b[0m\u001b[0m\n",
      "\u001b[1;31mNameError\u001b[0m: name 'external_data_dir' is not defined"
     ]
    }
   ],
   "source": [
    "forecast_dirs = set()\n",
    "\n",
    "# TODO: Create and add the paths for this data set\n",
    "\n",
    "# Creates initial directories\n",
    "nwc_wpc_data_dir = external_data_dir.joinpath('nwc-wpc')\n",
    "forecasts_data_dir = nwc_wpc_data_dir.joinpath('forecasts')\n",
    "for2020_data_dir = forecasts_data_dir.joinpath('2020')"
   ]
  },
  {
   "cell_type": "code",
   "execution_count": 6,
   "metadata": {},
   "outputs": [
    {
     "ename": "NameError",
     "evalue": "name 'for2020_data_dir' is not defined",
     "output_type": "error",
     "traceback": [
      "\u001b[1;31m---------------------------------------------------------------------------\u001b[0m",
      "\u001b[1;31mNameError\u001b[0m                                 Traceback (most recent call last)",
      "\u001b[1;32m~\\AppData\\Local\\Temp/ipykernel_7008/506691379.py\u001b[0m in \u001b[0;36m<module>\u001b[1;34m\u001b[0m\n\u001b[0;32m      1\u001b[0m \u001b[1;31m# Creates directories for months\u001b[0m\u001b[1;33m\u001b[0m\u001b[1;33m\u001b[0m\u001b[0m\n\u001b[1;32m----> 2\u001b[1;33m \u001b[0mDirGenerator\u001b[0m\u001b[1;33m(\u001b[0m\u001b[0mfor2020_data_dir\u001b[0m\u001b[1;33m,\u001b[0m \u001b[0mmonths\u001b[0m\u001b[1;33m)\u001b[0m\u001b[1;33m\u001b[0m\u001b[1;33m\u001b[0m\u001b[0m\n\u001b[0m\u001b[0;32m      3\u001b[0m \u001b[1;33m\u001b[0m\u001b[0m\n\u001b[0;32m      4\u001b[0m \u001b[1;31m# Creates directories for days in months dirs\u001b[0m\u001b[1;33m\u001b[0m\u001b[1;33m\u001b[0m\u001b[0m\n\u001b[0;32m      5\u001b[0m \u001b[0mparent\u001b[0m \u001b[1;33m=\u001b[0m \u001b[0mformat\u001b[0m\u001b[1;33m(\u001b[0m\u001b[0mfor2020_data_dir\u001b[0m\u001b[1;33m)\u001b[0m\u001b[1;33m\u001b[0m\u001b[1;33m\u001b[0m\u001b[0m\n",
      "\u001b[1;31mNameError\u001b[0m: name 'for2020_data_dir' is not defined"
     ]
    }
   ],
   "source": [
    "# Creates directories for months\n",
    "DirGenerator(for2020_data_dir, months)\n",
    "\n",
    "# Creates directories for days in months dirs\n",
    "parent = format(for2020_data_dir)\n",
    "for month, days in month_days.items():\n",
    "    child = PurePosixPath((f'{parent}/{month}'))\n",
    "    DirGenerator(child, days, add_to=forecast_dirs)\n",
    "\n",
    "# Should have 365 directories (366 if leap year)\n",
    "len(forecast_dirs)"
   ]
  },
  {
   "cell_type": "markdown",
   "metadata": {},
   "source": [
    "In the second part, I will create the structure for the raw source data. We will use the following directory naming convention. \n",
    "\n",
    "```\n",
    "/data/raw/inventory/<location>/<year>/<month>/<day>/\n",
    "/data/raw/expenses/<location>/<year>/<month>/<day>/\n",
    "/data/raw/sales/<location>/<year>/<month>/<day>/<hour>/\n",
    "```\n",
    "For *location*, we will use the three-letter IATA code for the airport nearest to the location.  We will use the same year, month, and day convention from the previous example. For *hour*, we will use the two-digit hour value based on a 24-hour clock set to UTC. "
   ]
  },
  {
   "cell_type": "markdown",
   "metadata": {},
   "source": [
    "The following is an example of the directory structure for daily data dumps. \n",
    "\n",
    "```\n",
    "data\n",
    "├── external\n",
    "├── interim\n",
    "├── processed\n",
    "└── raw\n",
    "    ├── expenses\n",
    "    ├── inventory\n",
    "    │   ├── bwi\n",
    "    │   ├── cmh\n",
    "    │   ├── den\n",
    "    │   ├── oma\n",
    "    │   │   └── 2020\n",
    "    │   │       ├── 01\n",
    "    │   │       │   ├── 01\n",
    "    │   │       │   ├── 02\n",
    "    │   │       │   ...    \n",
    "    │   │       │   └── 31\n",
    "    │   │       ├── 02\n",
    "    │   │       │   ├── 01\n",
    "    │   │       │   ...\n",
    "    │   │       │   └── 29\n",
    "    │   │       ├── 03\n",
    "    │   │       ... \n",
    "    │   │       ├── 11\n",
    "    │   │       └── 12\n",
    "    │   │           ├── 01\n",
    "    │   │           ├── 02\n",
    "    │   │           ...  \n",
    "    │   │           └── 31\n",
    "    │   └── sfo\n",
    "    └── sales\n",
    "```\n",
    "\n",
    "Create and add the paths for these data sets. Verify that you have added the paths correctly."
   ]
  },
  {
   "cell_type": "code",
   "execution_count": 7,
   "metadata": {},
   "outputs": [],
   "source": [
    "inventory_dirs = set()\n",
    "expenses_dirs = set()\n",
    "\n",
    "#Create and add the paths for this data set"
   ]
  },
  {
   "cell_type": "code",
   "execution_count": 8,
   "metadata": {},
   "outputs": [
    {
     "ename": "NameError",
     "evalue": "name 'raw_data_dir' is not defined",
     "output_type": "error",
     "traceback": [
      "\u001b[1;31m---------------------------------------------------------------------------\u001b[0m",
      "\u001b[1;31mNameError\u001b[0m                                 Traceback (most recent call last)",
      "\u001b[1;32m~\\AppData\\Local\\Temp/ipykernel_7008/3262876777.py\u001b[0m in \u001b[0;36m<module>\u001b[1;34m\u001b[0m\n\u001b[0;32m      1\u001b[0m \u001b[1;31m# Creates initial directories\u001b[0m\u001b[1;33m\u001b[0m\u001b[1;33m\u001b[0m\u001b[0m\n\u001b[1;32m----> 2\u001b[1;33m \u001b[0mraw_expenses_data_dir\u001b[0m \u001b[1;33m=\u001b[0m \u001b[0mraw_data_dir\u001b[0m\u001b[1;33m.\u001b[0m\u001b[0mjoinpath\u001b[0m\u001b[1;33m(\u001b[0m\u001b[1;34m'expenses'\u001b[0m\u001b[1;33m)\u001b[0m\u001b[1;33m\u001b[0m\u001b[1;33m\u001b[0m\u001b[0m\n\u001b[0m\u001b[0;32m      3\u001b[0m \u001b[0mraw_inventory_data_dir\u001b[0m \u001b[1;33m=\u001b[0m \u001b[0mraw_data_dir\u001b[0m\u001b[1;33m.\u001b[0m\u001b[0mjoinpath\u001b[0m\u001b[1;33m(\u001b[0m\u001b[1;34m'inventory'\u001b[0m\u001b[1;33m)\u001b[0m\u001b[1;33m\u001b[0m\u001b[1;33m\u001b[0m\u001b[0m\n\u001b[0;32m      4\u001b[0m \u001b[1;33m\u001b[0m\u001b[0m\n\u001b[0;32m      5\u001b[0m in_location_dirs = [raw_inventory_data_dir.joinpath('bwi'),\n",
      "\u001b[1;31mNameError\u001b[0m: name 'raw_data_dir' is not defined"
     ]
    }
   ],
   "source": [
    "# Creates initial directories\n",
    "raw_expenses_data_dir = raw_data_dir.joinpath('expenses')\n",
    "raw_inventory_data_dir = raw_data_dir.joinpath('inventory')\n",
    "\n",
    "in_location_dirs = [raw_inventory_data_dir.joinpath('bwi'),\n",
    "                    raw_inventory_data_dir.joinpath('cmh'),\n",
    "                    raw_inventory_data_dir.joinpath('den'),\n",
    "                    raw_inventory_data_dir.joinpath('oma'),\n",
    "                    raw_inventory_data_dir.joinpath('sfo')]\n",
    "\n",
    "ex_location_dirs = [raw_expenses_data_dir.joinpath('bwi'),\n",
    "                    raw_expenses_data_dir.joinpath('cmh'),\n",
    "                    raw_expenses_data_dir.joinpath('den'),\n",
    "                    raw_expenses_data_dir.joinpath('oma'),\n",
    "                    raw_expenses_data_dir.joinpath('sfo')]"
   ]
  },
  {
   "cell_type": "code",
   "execution_count": 9,
   "metadata": {},
   "outputs": [
    {
     "ename": "NameError",
     "evalue": "name 'in_location_dirs' is not defined",
     "output_type": "error",
     "traceback": [
      "\u001b[1;31m---------------------------------------------------------------------------\u001b[0m",
      "\u001b[1;31mNameError\u001b[0m                                 Traceback (most recent call last)",
      "\u001b[1;32m~\\AppData\\Local\\Temp/ipykernel_7008/4103396882.py\u001b[0m in \u001b[0;36m<module>\u001b[1;34m\u001b[0m\n\u001b[0;32m      1\u001b[0m \u001b[1;31m# Creates directories for months in inventory location dirs\u001b[0m\u001b[1;33m\u001b[0m\u001b[1;33m\u001b[0m\u001b[0m\n\u001b[1;32m----> 2\u001b[1;33m \u001b[1;32mfor\u001b[0m \u001b[0mlocation_dir\u001b[0m \u001b[1;32min\u001b[0m \u001b[0min_location_dirs\u001b[0m\u001b[1;33m:\u001b[0m\u001b[1;33m\u001b[0m\u001b[1;33m\u001b[0m\u001b[0m\n\u001b[0m\u001b[0;32m      3\u001b[0m     \u001b[0mDirGenerator\u001b[0m\u001b[1;33m(\u001b[0m\u001b[0mlocation_dir\u001b[0m\u001b[1;33m,\u001b[0m \u001b[0mmonths\u001b[0m\u001b[1;33m)\u001b[0m\u001b[1;33m\u001b[0m\u001b[1;33m\u001b[0m\u001b[0m\n\u001b[0;32m      4\u001b[0m \u001b[1;33m\u001b[0m\u001b[0m\n\u001b[0;32m      5\u001b[0m \u001b[1;31m# Creates directories for months in expenses location dirs\u001b[0m\u001b[1;33m\u001b[0m\u001b[1;33m\u001b[0m\u001b[0m\n",
      "\u001b[1;31mNameError\u001b[0m: name 'in_location_dirs' is not defined"
     ]
    }
   ],
   "source": [
    "# Creates directories for months in inventory location dirs\n",
    "for location_dir in in_location_dirs:\n",
    "    DirGenerator(location_dir, months)\n",
    "\n",
    "# Creates directories for months in expenses location dirs\n",
    "for location_dir in ex_location_dirs:\n",
    "    DirGenerator(location_dir, months)\n",
    "\n",
    "# Creates directories for days in inventory\n",
    "for PosixPath in in_location_dirs:\n",
    "    # Formats parent path\n",
    "    parent = f'{format(PosixPath)}/2020'\n",
    "    for month, days in month_days.items():\n",
    "        child = PurePosixPath((f'{parent}/{month}'))\n",
    "        DirGenerator(child, days, add_to=inventory_dirs)\n",
    "\n",
    "# Creates directories for days in expenses\n",
    "for PosixPath in ex_location_dirs:\n",
    "    # Formats parent path\n",
    "    parent = f'{format(PosixPath)}/2020'\n",
    "    for month, days in month_days.items():\n",
    "        child = PurePosixPath((f'{parent}/{month}'))\n",
    "        DirGenerator(child, days, add_to=expenses_dirs)"
   ]
  },
  {
   "cell_type": "code",
   "execution_count": 10,
   "metadata": {},
   "outputs": [
    {
     "data": {
      "text/plain": [
       "(0, 0)"
      ]
     },
     "execution_count": 10,
     "metadata": {},
     "output_type": "execute_result"
    }
   ],
   "source": [
    "# Should have 1825 directories (1830 if leap year)\n",
    "len(inventory_dirs), len(expenses_dirs) "
   ]
  },
  {
   "cell_type": "markdown",
   "metadata": {},
   "source": [
    "#Finally, I create the paths for the hourly sales data. The following is an example of the directory structure for the sales data. \n",
    "\n",
    "```\n",
    "├── external\n",
    "├── interim\n",
    "├── processed\n",
    "└── raw\n",
    "    ├── expenses\n",
    "    ├── inventory\n",
    "    └── sales\n",
    "        ├── bwi\n",
    "        ├── cmh\n",
    "        ├── den\n",
    "        ├── oma\n",
    "        │   └── 2020\n",
    "        │       ├── 01\n",
    "        │       │   └── 01\n",
    "        │       │       ├── 00\n",
    "        │       │       ├── 01   \n",
    "        │       │       ├── 02\n",
    "        │       │       ...     \n",
    "        │       │       ├── 22\n",
    "        │       │       └── 23\n",
    "        │       ├── 02\n",
    "        │       ...\n",
    "        │       └── 12\n",
    "        └── sfo\n",
    "```"
   ]
  },
  {
   "cell_type": "code",
   "execution_count": 11,
   "metadata": {},
   "outputs": [],
   "source": [
    "sales_dirs = set()\n",
    "\n",
    "#Create and add the paths for this data set"
   ]
  },
  {
   "cell_type": "code",
   "execution_count": 12,
   "metadata": {},
   "outputs": [
    {
     "ename": "NameError",
     "evalue": "name 'raw_data_dir' is not defined",
     "output_type": "error",
     "traceback": [
      "\u001b[1;31m---------------------------------------------------------------------------\u001b[0m",
      "\u001b[1;31mNameError\u001b[0m                                 Traceback (most recent call last)",
      "\u001b[1;32m~\\AppData\\Local\\Temp/ipykernel_7008/2097468892.py\u001b[0m in \u001b[0;36m<module>\u001b[1;34m\u001b[0m\n\u001b[0;32m      1\u001b[0m \u001b[1;31m# Creates initial directories\u001b[0m\u001b[1;33m\u001b[0m\u001b[1;33m\u001b[0m\u001b[0m\n\u001b[1;32m----> 2\u001b[1;33m \u001b[0mraw_sales_data_dir\u001b[0m \u001b[1;33m=\u001b[0m \u001b[0mraw_data_dir\u001b[0m\u001b[1;33m.\u001b[0m\u001b[0mjoinpath\u001b[0m\u001b[1;33m(\u001b[0m\u001b[1;34m'sales'\u001b[0m\u001b[1;33m)\u001b[0m\u001b[1;33m\u001b[0m\u001b[1;33m\u001b[0m\u001b[0m\n\u001b[0m\u001b[0;32m      3\u001b[0m \u001b[1;33m\u001b[0m\u001b[0m\n\u001b[0;32m      4\u001b[0m sales_location_dirs = [raw_sales_data_dir.joinpath('bwi'),\n\u001b[0;32m      5\u001b[0m                        \u001b[0mraw_sales_data_dir\u001b[0m\u001b[1;33m.\u001b[0m\u001b[0mjoinpath\u001b[0m\u001b[1;33m(\u001b[0m\u001b[1;34m'cmh'\u001b[0m\u001b[1;33m)\u001b[0m\u001b[1;33m,\u001b[0m\u001b[1;33m\u001b[0m\u001b[1;33m\u001b[0m\u001b[0m\n",
      "\u001b[1;31mNameError\u001b[0m: name 'raw_data_dir' is not defined"
     ]
    }
   ],
   "source": [
    "# Creates initial directories\n",
    "raw_sales_data_dir = raw_data_dir.joinpath('sales')\n",
    "\n",
    "sales_location_dirs = [raw_sales_data_dir.joinpath('bwi'),\n",
    "                       raw_sales_data_dir.joinpath('cmh'),\n",
    "                       raw_sales_data_dir.joinpath('den'),\n",
    "                       raw_sales_data_dir.joinpath('oma'),\n",
    "                       raw_sales_data_dir.joinpath('sfo')]"
   ]
  },
  {
   "cell_type": "code",
   "execution_count": 13,
   "metadata": {},
   "outputs": [
    {
     "ename": "NameError",
     "evalue": "name 'sales_location_dirs' is not defined",
     "output_type": "error",
     "traceback": [
      "\u001b[1;31m---------------------------------------------------------------------------\u001b[0m",
      "\u001b[1;31mNameError\u001b[0m                                 Traceback (most recent call last)",
      "\u001b[1;32m~\\AppData\\Local\\Temp/ipykernel_7008/1800415010.py\u001b[0m in \u001b[0;36m<module>\u001b[1;34m\u001b[0m\n\u001b[0;32m      1\u001b[0m \u001b[1;31m# Creates directories for months in sales location dirs\u001b[0m\u001b[1;33m\u001b[0m\u001b[1;33m\u001b[0m\u001b[0m\n\u001b[1;32m----> 2\u001b[1;33m \u001b[1;32mfor\u001b[0m \u001b[0mlocation_dir\u001b[0m \u001b[1;32min\u001b[0m \u001b[0msales_location_dirs\u001b[0m\u001b[1;33m:\u001b[0m\u001b[1;33m\u001b[0m\u001b[1;33m\u001b[0m\u001b[0m\n\u001b[0m\u001b[0;32m      3\u001b[0m     \u001b[0mDirGenerator\u001b[0m\u001b[1;33m(\u001b[0m\u001b[0mlocation_dir\u001b[0m\u001b[1;33m,\u001b[0m \u001b[0mmonths\u001b[0m\u001b[1;33m)\u001b[0m\u001b[1;33m\u001b[0m\u001b[1;33m\u001b[0m\u001b[0m\n\u001b[0;32m      4\u001b[0m \u001b[1;33m\u001b[0m\u001b[0m\n\u001b[0;32m      5\u001b[0m \u001b[1;31m# Creates directories for days in sales\u001b[0m\u001b[1;33m\u001b[0m\u001b[1;33m\u001b[0m\u001b[0m\n",
      "\u001b[1;31mNameError\u001b[0m: name 'sales_location_dirs' is not defined"
     ]
    }
   ],
   "source": [
    "# Creates directories for months in sales location dirs\n",
    "for location_dir in sales_location_dirs:\n",
    "    DirGenerator(location_dir, months)\n",
    "\n",
    "# Creates directories for days in sales\n",
    "for PosixPath in sales_location_dirs:\n",
    "    # Formats parent path\n",
    "    parent = f'{format(PosixPath)}/2020'\n",
    "    for month, days in month_days.items():\n",
    "        child = PurePosixPath((f'{parent}/{month}'))\n",
    "        DirGenerator(child, days, add_to=sales_dirs)\n",
    "\n",
    "# Lists hours in a day\n",
    "hours = [str(hour).zfill(2) for hour in range(24)]\n",
    "\n",
    "# Creates directories for hours in sales\n",
    "hourly_sales_dirs = set()\n",
    "for sales_day_dir in sales_dirs:\n",
    "    parent = PurePosixPath(sales_day_dir)\n",
    "    DirGenerator(parent, hours, add_to=hourly_sales_dirs) "
   ]
  },
  {
   "cell_type": "code",
   "execution_count": 14,
   "metadata": {},
   "outputs": [
    {
     "ename": "NameError",
     "evalue": "name 'hourly_sales_dirs' is not defined",
     "output_type": "error",
     "traceback": [
      "\u001b[1;31m---------------------------------------------------------------------------\u001b[0m",
      "\u001b[1;31mNameError\u001b[0m                                 Traceback (most recent call last)",
      "\u001b[1;32m~\\AppData\\Local\\Temp/ipykernel_7008/1803746501.py\u001b[0m in \u001b[0;36m<module>\u001b[1;34m\u001b[0m\n\u001b[1;32m----> 1\u001b[1;33m \u001b[0msales_dirs\u001b[0m \u001b[1;33m=\u001b[0m \u001b[0mhourly_sales_dirs\u001b[0m\u001b[1;33m\u001b[0m\u001b[1;33m\u001b[0m\u001b[0m\n\u001b[0m\u001b[0;32m      2\u001b[0m \u001b[1;33m\u001b[0m\u001b[0m\n\u001b[0;32m      3\u001b[0m \u001b[1;31m# Should have 43,800 directories (43,920 if leap year)\u001b[0m\u001b[1;33m\u001b[0m\u001b[1;33m\u001b[0m\u001b[0m\n\u001b[0;32m      4\u001b[0m \u001b[0mlen\u001b[0m\u001b[1;33m(\u001b[0m\u001b[0msales_dirs\u001b[0m\u001b[1;33m)\u001b[0m\u001b[1;33m\u001b[0m\u001b[1;33m\u001b[0m\u001b[0m\n",
      "\u001b[1;31mNameError\u001b[0m: name 'hourly_sales_dirs' is not defined"
     ]
    }
   ],
   "source": [
    "sales_dirs = hourly_sales_dirs\n",
    "\n",
    "# Should have 43,800 directories (43,920 if leap year)\n",
    "len(sales_dirs) "
   ]
  },
  {
   "cell_type": "markdown",
   "metadata": {},
   "source": [
    "I have two choices for structuring the weekly data set. I can use the following naming convention where the date is based on the first day of the week. \n",
    "\n",
    "```\n",
    "/data/processed/modeling/<year>/<month>/<day>/\n",
    "```\n",
    "\n",
    "Otherwise, I could use a naming convention where *week* is the number of weeks it has been since the beginning of the year. \n",
    " \n",
    "```\n",
    "/data/processed/modeling/<year>/<week>/\n",
    "```\n",
    "\n",
    "I will use the first option for our naming convention. Python's *calendar* library has a function that determines the first day of the week. "
   ]
  },
  {
   "cell_type": "code",
   "execution_count": 15,
   "metadata": {},
   "outputs": [],
   "source": [
    "modeling_data_dirs = set()\n",
    "\n",
    "#Create and add the paths for this data set"
   ]
  },
  {
   "cell_type": "code",
   "execution_count": 16,
   "metadata": {},
   "outputs": [],
   "source": [
    "year = 2020\n",
    "week_starter = 0\n",
    "\n",
    "# Creates dict {month: [week_start_date]} for year\n",
    "month_weeks = {str(month+1): [] for month in range(12)}\n",
    "for i in range(12):\n",
    "    month = i+1\n",
    "    for date in cal.itermonthdays4(year, month):\n",
    "        if date[0] == year and date[3] == week_starter:\n",
    "            if str(date[2]) not in month_weeks[str(date[1])]:\n",
    "                month_weeks[str(date[1])].append(str(date[2]))\n",
    "            \n",
    "# Creates padding with 0s (e.g., 1 to 01)\n",
    "padded_dict = {}\n",
    "for month, weeks in month_weeks.items():\n",
    "    weeks = [str(week.zfill(2)) for week in weeks]\n",
    "    padded_dict[str(month.zfill(2))] = list(weeks)\n",
    "    \n",
    "month_weeks = padded_dict"
   ]
  },
  {
   "cell_type": "code",
   "execution_count": 17,
   "metadata": {},
   "outputs": [
    {
     "ename": "NameError",
     "evalue": "name 'processed_data_dir' is not defined",
     "output_type": "error",
     "traceback": [
      "\u001b[1;31m---------------------------------------------------------------------------\u001b[0m",
      "\u001b[1;31mNameError\u001b[0m                                 Traceback (most recent call last)",
      "\u001b[1;32m~\\AppData\\Local\\Temp/ipykernel_7008/567232363.py\u001b[0m in \u001b[0;36m<module>\u001b[1;34m\u001b[0m\n\u001b[0;32m      1\u001b[0m \u001b[1;31m# Creates initial directory\u001b[0m\u001b[1;33m\u001b[0m\u001b[1;33m\u001b[0m\u001b[0m\n\u001b[1;32m----> 2\u001b[1;33m \u001b[0mmodeling_data_dir\u001b[0m \u001b[1;33m=\u001b[0m \u001b[0mprocessed_data_dir\u001b[0m\u001b[1;33m.\u001b[0m\u001b[0mjoinpath\u001b[0m\u001b[1;33m(\u001b[0m\u001b[1;34m'modeling'\u001b[0m\u001b[1;33m)\u001b[0m\u001b[1;33m\u001b[0m\u001b[1;33m\u001b[0m\u001b[0m\n\u001b[0m\u001b[0;32m      3\u001b[0m \u001b[1;33m\u001b[0m\u001b[0m\n\u001b[0;32m      4\u001b[0m \u001b[1;31m# Creates directories for months\u001b[0m\u001b[1;33m\u001b[0m\u001b[1;33m\u001b[0m\u001b[0m\n\u001b[0;32m      5\u001b[0m \u001b[0mDirGenerator\u001b[0m\u001b[1;33m(\u001b[0m\u001b[0mmodeling_data_dir\u001b[0m\u001b[1;33m,\u001b[0m \u001b[0mmonths\u001b[0m\u001b[1;33m)\u001b[0m\u001b[1;33m\u001b[0m\u001b[1;33m\u001b[0m\u001b[0m\n",
      "\u001b[1;31mNameError\u001b[0m: name 'processed_data_dir' is not defined"
     ]
    }
   ],
   "source": [
    "# Creates initial directory\n",
    "modeling_data_dir = processed_data_dir.joinpath('modeling')\n",
    "\n",
    "# Creates directories for months\n",
    "DirGenerator(modeling_data_dir, months)\n",
    "\n",
    "# Creates directories for days in months dirs\n",
    "parent = format(modeling_data_dir)\n",
    "for month, weeks in month_weeks.items():\n",
    "    child = PurePosixPath((f'{parent}/{month}'))\n",
    "    DirGenerator(child, weeks, add_to=modeling_data_dirs)"
   ]
  },
  {
   "cell_type": "code",
   "execution_count": 18,
   "metadata": {},
   "outputs": [
    {
     "data": {
      "text/plain": [
       "0"
      ]
     },
     "execution_count": 18,
     "metadata": {},
     "output_type": "execute_result"
    }
   ],
   "source": [
    "# Should have 52 directories\n",
    "len(modeling_data_dirs)"
   ]
  },
  {
   "cell_type": "markdown",
   "metadata": {},
   "source": [
    "Next, I create the monthly inventory requests using the following convention. \n",
    "\n",
    "```\n",
    "/data/processed/inventory/requests/<year>/<month>/\n",
    "```"
   ]
  },
  {
   "cell_type": "code",
   "execution_count": 19,
   "metadata": {},
   "outputs": [],
   "source": [
    "inventory_request_dirs = set()\n",
    "\n",
    "#Create and add the paths for this data set"
   ]
  },
  {
   "cell_type": "code",
   "execution_count": 20,
   "metadata": {},
   "outputs": [
    {
     "ename": "NameError",
     "evalue": "name 'processed_data_dir' is not defined",
     "output_type": "error",
     "traceback": [
      "\u001b[1;31m---------------------------------------------------------------------------\u001b[0m",
      "\u001b[1;31mNameError\u001b[0m                                 Traceback (most recent call last)",
      "\u001b[1;32m~\\AppData\\Local\\Temp/ipykernel_7008/4289596186.py\u001b[0m in \u001b[0;36m<module>\u001b[1;34m\u001b[0m\n\u001b[0;32m      1\u001b[0m \u001b[1;31m# Creates initial directory\u001b[0m\u001b[1;33m\u001b[0m\u001b[1;33m\u001b[0m\u001b[0m\n\u001b[1;32m----> 2\u001b[1;33m \u001b[0minventory_data_dir\u001b[0m \u001b[1;33m=\u001b[0m \u001b[0mprocessed_data_dir\u001b[0m\u001b[1;33m.\u001b[0m\u001b[0mjoinpath\u001b[0m\u001b[1;33m(\u001b[0m\u001b[1;34m'inventory'\u001b[0m\u001b[1;33m)\u001b[0m\u001b[1;33m\u001b[0m\u001b[1;33m\u001b[0m\u001b[0m\n\u001b[0m\u001b[0;32m      3\u001b[0m \u001b[0mrequests_data_dir\u001b[0m \u001b[1;33m=\u001b[0m \u001b[0mprocessed_data_dir\u001b[0m\u001b[1;33m.\u001b[0m\u001b[0mjoinpath\u001b[0m\u001b[1;33m(\u001b[0m\u001b[1;34m'requests'\u001b[0m\u001b[1;33m)\u001b[0m\u001b[1;33m\u001b[0m\u001b[1;33m\u001b[0m\u001b[0m\n\u001b[0;32m      4\u001b[0m \u001b[0mrequests2020_data_dir\u001b[0m \u001b[1;33m=\u001b[0m \u001b[0mprocessed_data_dir\u001b[0m\u001b[1;33m.\u001b[0m\u001b[0mjoinpath\u001b[0m\u001b[1;33m(\u001b[0m\u001b[1;34m'2020'\u001b[0m\u001b[1;33m)\u001b[0m\u001b[1;33m\u001b[0m\u001b[1;33m\u001b[0m\u001b[0m\n\u001b[0;32m      5\u001b[0m \u001b[1;33m\u001b[0m\u001b[0m\n",
      "\u001b[1;31mNameError\u001b[0m: name 'processed_data_dir' is not defined"
     ]
    }
   ],
   "source": [
    "# Creates initial directory\n",
    "inventory_data_dir = processed_data_dir.joinpath('inventory')\n",
    "requests_data_dir = processed_data_dir.joinpath('requests')\n",
    "requests2020_data_dir = processed_data_dir.joinpath('2020')\n",
    "\n",
    "# Generates the month directories\n",
    "DirGenerator(requests2020_data_dir, month_days.keys(), add_to=inventory_request_dirs)"
   ]
  },
  {
   "cell_type": "code",
   "execution_count": 21,
   "metadata": {},
   "outputs": [
    {
     "data": {
      "text/plain": [
       "[]"
      ]
     },
     "execution_count": 21,
     "metadata": {},
     "output_type": "execute_result"
    }
   ],
   "source": [
    " # Should output 12 directories\n",
    "sorted(list(inventory_request_dirs))"
   ]
  },
  {
   "cell_type": "markdown",
   "metadata": {},
   "source": [
    "Finally, I create the quarterly financial reports using the following convention. \n",
    "\n",
    "```\n",
    "`/data/processed/financials/quarterly/<year>/<quarter>/`\n",
    "```\n",
    "While it does not matter for this assignment, the following are the typical dates associated with financial quarters. "
   ]
  },
  {
   "cell_type": "code",
   "execution_count": 22,
   "metadata": {},
   "outputs": [],
   "source": [
    "financials_dirs = set()\n",
    "\n",
    "#Create and add the paths for this data set"
   ]
  },
  {
   "cell_type": "code",
   "execution_count": 23,
   "metadata": {},
   "outputs": [
    {
     "ename": "NameError",
     "evalue": "name 'processed_data_dir' is not defined",
     "output_type": "error",
     "traceback": [
      "\u001b[1;31m---------------------------------------------------------------------------\u001b[0m",
      "\u001b[1;31mNameError\u001b[0m                                 Traceback (most recent call last)",
      "\u001b[1;32m~\\AppData\\Local\\Temp/ipykernel_7008/3501047757.py\u001b[0m in \u001b[0;36m<module>\u001b[1;34m\u001b[0m\n\u001b[0;32m      1\u001b[0m \u001b[1;31m# Creates initial directory\u001b[0m\u001b[1;33m\u001b[0m\u001b[1;33m\u001b[0m\u001b[0m\n\u001b[1;32m----> 2\u001b[1;33m \u001b[0mfinancials_data_dir\u001b[0m \u001b[1;33m=\u001b[0m \u001b[0mprocessed_data_dir\u001b[0m\u001b[1;33m.\u001b[0m\u001b[0mjoinpath\u001b[0m\u001b[1;33m(\u001b[0m\u001b[1;34m'financials'\u001b[0m\u001b[1;33m)\u001b[0m\u001b[1;33m\u001b[0m\u001b[1;33m\u001b[0m\u001b[0m\n\u001b[0m\u001b[0;32m      3\u001b[0m \u001b[0mquarterly_data_dir\u001b[0m \u001b[1;33m=\u001b[0m \u001b[0mfinancials_data_dir\u001b[0m\u001b[1;33m.\u001b[0m\u001b[0mjoinpath\u001b[0m\u001b[1;33m(\u001b[0m\u001b[1;34m'quarterly'\u001b[0m\u001b[1;33m)\u001b[0m\u001b[1;33m\u001b[0m\u001b[1;33m\u001b[0m\u001b[0m\n\u001b[0;32m      4\u001b[0m \u001b[0mquarterly2020_data_dir\u001b[0m \u001b[1;33m=\u001b[0m \u001b[0mquarterly_data_dir\u001b[0m\u001b[1;33m.\u001b[0m\u001b[0mjoinpath\u001b[0m\u001b[1;33m(\u001b[0m\u001b[1;34m'2020'\u001b[0m\u001b[1;33m)\u001b[0m\u001b[1;33m\u001b[0m\u001b[1;33m\u001b[0m\u001b[0m\n\u001b[0;32m      5\u001b[0m \u001b[1;33m\u001b[0m\u001b[0m\n",
      "\u001b[1;31mNameError\u001b[0m: name 'processed_data_dir' is not defined"
     ]
    }
   ],
   "source": [
    "# Creates initial directory\n",
    "financials_data_dir = processed_data_dir.joinpath('financials')\n",
    "quarterly_data_dir = financials_data_dir.joinpath('quarterly')\n",
    "quarterly2020_data_dir = quarterly_data_dir.joinpath('2020')\n",
    "\n",
    "quarters = ['01', '02', '03', '04']\n",
    "\n",
    "# Generates the quarterly directories\n",
    "DirGenerator(quarterly2020_data_dir, quarters, add_to=financials_dirs)"
   ]
  },
  {
   "cell_type": "code",
   "execution_count": 24,
   "metadata": {},
   "outputs": [
    {
     "data": {
      "text/plain": [
       "[]"
      ]
     },
     "execution_count": 24,
     "metadata": {},
     "output_type": "execute_result"
    }
   ],
   "source": [
    "# Should output four quarterly directories\n",
    "sorted(list(financials_dirs)) "
   ]
  }
 ],
 "metadata": {
  "kernelspec": {
   "display_name": "Python 3 (ipykernel)",
   "language": "python",
   "name": "python3"
  },
  "language_info": {
   "codemirror_mode": {
    "name": "ipython",
    "version": 3
   },
   "file_extension": ".py",
   "mimetype": "text/x-python",
   "name": "python",
   "nbconvert_exporter": "python",
   "pygments_lexer": "ipython3",
   "version": "3.9.7"
  }
 },
 "nbformat": 4,
 "nbformat_minor": 4
}
