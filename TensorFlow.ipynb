{
 "cells": [
  {
   "cell_type": "markdown",
   "id": "f0bbafd9",
   "metadata": {},
   "source": [
    "Gebil Jibul\n",
    "\n",
    "Description: This program demonstrates the building, training, and evaluation of a neural network using TensorFlow(library for machine learning and artificial intelligence)."
   ]
  },
  {
   "cell_type": "markdown",
   "id": "fc77a5b7",
   "metadata": {},
   "source": [
    "Using TensorFlow or Sciki, to create a neural network model from dataset, with the same target (numerical predictive model)."
   ]
  },
  {
   "cell_type": "markdown",
   "id": "d3a2fbec",
   "metadata": {},
   "source": [
    "### Imports"
   ]
  },
  {
   "cell_type": "code",
   "execution_count": 9,
   "id": "dcd47131",
   "metadata": {},
   "outputs": [
    {
     "data": {
      "text/html": [
       "<div>\n",
       "<style scoped>\n",
       "    .dataframe tbody tr th:only-of-type {\n",
       "        vertical-align: middle;\n",
       "    }\n",
       "\n",
       "    .dataframe tbody tr th {\n",
       "        vertical-align: top;\n",
       "    }\n",
       "\n",
       "    .dataframe thead th {\n",
       "        text-align: right;\n",
       "    }\n",
       "</style>\n",
       "<table border=\"1\" class=\"dataframe\">\n",
       "  <thead>\n",
       "    <tr style=\"text-align: right;\">\n",
       "      <th></th>\n",
       "      <th>r&amp;d spend</th>\n",
       "      <th>administration</th>\n",
       "      <th>marketing spend</th>\n",
       "      <th>profit</th>\n",
       "      <th>state_California</th>\n",
       "      <th>state_FL</th>\n",
       "      <th>state_New York</th>\n",
       "    </tr>\n",
       "  </thead>\n",
       "  <tbody>\n",
       "    <tr>\n",
       "      <th>0</th>\n",
       "      <td>165349.20</td>\n",
       "      <td>136897.80</td>\n",
       "      <td>471784.10</td>\n",
       "      <td>192261.83</td>\n",
       "      <td>0</td>\n",
       "      <td>0</td>\n",
       "      <td>1</td>\n",
       "    </tr>\n",
       "    <tr>\n",
       "      <th>1</th>\n",
       "      <td>162597.70</td>\n",
       "      <td>151377.59</td>\n",
       "      <td>443898.53</td>\n",
       "      <td>191792.06</td>\n",
       "      <td>1</td>\n",
       "      <td>0</td>\n",
       "      <td>0</td>\n",
       "    </tr>\n",
       "    <tr>\n",
       "      <th>2</th>\n",
       "      <td>153441.51</td>\n",
       "      <td>101145.55</td>\n",
       "      <td>407934.54</td>\n",
       "      <td>191050.39</td>\n",
       "      <td>0</td>\n",
       "      <td>1</td>\n",
       "      <td>0</td>\n",
       "    </tr>\n",
       "    <tr>\n",
       "      <th>3</th>\n",
       "      <td>144372.41</td>\n",
       "      <td>118671.85</td>\n",
       "      <td>383199.62</td>\n",
       "      <td>182901.99</td>\n",
       "      <td>0</td>\n",
       "      <td>0</td>\n",
       "      <td>1</td>\n",
       "    </tr>\n",
       "    <tr>\n",
       "      <th>4</th>\n",
       "      <td>142107.34</td>\n",
       "      <td>91391.77</td>\n",
       "      <td>366168.42</td>\n",
       "      <td>166187.94</td>\n",
       "      <td>0</td>\n",
       "      <td>1</td>\n",
       "      <td>0</td>\n",
       "    </tr>\n",
       "  </tbody>\n",
       "</table>\n",
       "</div>"
      ],
      "text/plain": [
       "   r&d spend  administration  marketing spend     profit  state_California  \\\n",
       "0  165349.20       136897.80        471784.10  192261.83                 0   \n",
       "1  162597.70       151377.59        443898.53  191792.06                 1   \n",
       "2  153441.51       101145.55        407934.54  191050.39                 0   \n",
       "3  144372.41       118671.85        383199.62  182901.99                 0   \n",
       "4  142107.34        91391.77        366168.42  166187.94                 0   \n",
       "\n",
       "   state_FL  state_New York  \n",
       "0         0               1  \n",
       "1         0               0  \n",
       "2         1               0  \n",
       "3         0               1  \n",
       "4         1               0  "
      ]
     },
     "execution_count": 9,
     "metadata": {},
     "output_type": "execute_result"
    }
   ],
   "source": [
    "import pandas as pd\n",
    "\n",
    "data = pd.read_csv('data/startup_profit.csv')\n",
    "\n",
    "# Cleans column names\n",
    "data.rename(str.strip, axis='columns', inplace=True)\n",
    "data.rename(str.lower, axis='columns', inplace=True)\n",
    "\n",
    "# Converts profit column to type float\n",
    "data['profit'] = data['profit'].replace(\"[$,]\", \"\", regex=True).astype(float)\n",
    "\n",
    "# One-hot encodes sate column\n",
    "data = pd.get_dummies(data)\n",
    "\n",
    "data.head()"
   ]
  },
  {
   "cell_type": "markdown",
   "id": "97e1dfc7",
   "metadata": {},
   "source": [
    "### Data Splits"
   ]
  },
  {
   "cell_type": "code",
   "execution_count": 280,
   "id": "333b60b7",
   "metadata": {},
   "outputs": [],
   "source": [
    "import numpy as np\n",
    "from sklearn.preprocessing import StandardScaler\n",
    "\n",
    "# Splits provided df into three ways (six total; input and target setsg). \n",
    "def tri_split(df, target: str, \n",
    "              train: float, validation: float, test: float, \n",
    "              standard_scale=False, random_state=None, bootstrap=False, \n",
    "              sample_frac=1):\n",
    "    \n",
    "    # Verifies args equal 100%\n",
    "    if sum([train, validation, test]) != 1:\n",
    "        raise ValueError('Sum of sizes is not equal to one.')\n",
    "        \n",
    "    # Collects indices for each split, then splits\n",
    "    indices = [int(train*len(df)), int((train+validation)*len(df))]\n",
    "    train, validate, test = np.split(\n",
    "        df.sample(frac=sample_frac, random_state=random_state, replace=bootstrap), \n",
    "        indices_or_sections=indices\n",
    "    )\n",
    "    \n",
    "    # Enables usage of kwarg True for all columns\n",
    "    if standard_scale is True:\n",
    "        standard_scale = list(df.columns)\n",
    "            \n",
    "    # Standardizes if specified to do so\n",
    "    if standard_scale:\n",
    "        sc = StandardScaler()\n",
    "        train[standard_scale]    = sc.fit_transform(train[standard_scale])\n",
    "        validate[standard_scale] = sc.transform(validate[standard_scale])\n",
    "        test[standard_scale]     = sc.transform(test[standard_scale])\n",
    "    \n",
    "    # Splits input data from target data\n",
    "    return dict(\n",
    "        X_train = train.drop(columns=[target]).to_numpy(), \n",
    "        y_train = train[target].to_numpy().reshape(-1,1),\n",
    "        \n",
    "        X_vali  = validate.drop(columns=[target]).to_numpy(), \n",
    "        y_vali  = validate[target].to_numpy().reshape(-1,1),\n",
    "        \n",
    "        X_test  = test.drop(columns=[target]).to_numpy(), \n",
    "        y_test  = test[target].to_numpy().reshape(-1,1)\n",
    "    )"
   ]
  },
  {
   "cell_type": "code",
   "execution_count": 279,
   "id": "55a40fc7",
   "metadata": {},
   "outputs": [],
   "source": [
    "data_dict = tri_split(data, target='profit', train=0.60, validation=0.20, test=0.20, standard_scale=True)\n",
    "\n",
    "X_train, y_train, X_vali, y_vali, X_test, y_test = data_dict.values()"
   ]
  },
  {
   "cell_type": "markdown",
   "id": "93c2e14f",
   "metadata": {},
   "source": [
    "### Designing Architecture"
   ]
  },
  {
   "cell_type": "code",
   "execution_count": 272,
   "id": "6c282779",
   "metadata": {},
   "outputs": [
    {
     "name": "stdout",
     "output_type": "stream",
     "text": [
      "Model: \"sequential\"\n",
      "_________________________________________________________________\n",
      " Layer (type)                Output Shape              Param #   \n",
      "=================================================================\n",
      " dense (Dense)               (None, 32)                224       \n",
      "                                                                 \n",
      " dense_1 (Dense)             (None, 16)                528       \n",
      "                                                                 \n",
      " dense_2 (Dense)             (None, 8)                 136       \n",
      "                                                                 \n",
      " dense_3 (Dense)             (None, 1)                 9         \n",
      "                                                                 \n",
      "=================================================================\n",
      "Total params: 897\n",
      "Trainable params: 897\n",
      "Non-trainable params: 0\n",
      "_________________________________________________________________\n"
     ]
    }
   ],
   "source": [
    "from keras.models import Sequential\n",
    "from keras.layers import Dense\n",
    "from keras import backend as K \n",
    "\n",
    "# Clears any sequentials from prior cell runs\n",
    "K.clear_session()\n",
    "\n",
    "# Input data shape\n",
    "n_input = X_train.shape[-1]\n",
    "# Nodes per hidden layer\n",
    "n_hidden1 = 32\n",
    "n_hidden2 = 16\n",
    "n_hidden3 = 8\n",
    "# Number of outputs\n",
    "n_outputs = 1\n",
    "\n",
    "# Architecture of NN\n",
    "nn_reg = Sequential(\n",
    "    [\n",
    "        Dense(units=n_hidden1, activation='relu', input_shape=(n_input,)),\n",
    "        Dense(units=n_hidden2, activation='relu'),\n",
    "        Dense(units=n_hidden3, activation='relu'),\n",
    "        Dense(units=n_outputs, activation=None)\n",
    "    ]\n",
    ")\n",
    "\n",
    "# Compiles with loss and optimizer functions\n",
    "nn_reg.compile(loss='mean_squared_error', optimizer='adam')\n",
    "\n",
    "# Displays summary of network\n",
    "nn_reg.summary()"
   ]
  },
  {
   "cell_type": "markdown",
   "id": "54134537",
   "metadata": {},
   "source": [
    "### Training"
   ]
  },
  {
   "cell_type": "code",
   "execution_count": 273,
   "id": "c4e71c31",
   "metadata": {},
   "outputs": [
    {
     "name": "stdout",
     "output_type": "stream",
     "text": [
      "Epoch 1/50\n",
      "1/1 [==============================] - 0s 329ms/step - loss: 0.8456\n",
      "Epoch 2/50\n",
      "1/1 [==============================] - 0s 16ms/step - loss: 0.8261\n",
      "Epoch 3/50\n",
      "1/1 [==============================] - 0s 0s/step - loss: 0.8063\n",
      "Epoch 4/50\n",
      "1/1 [==============================] - 0s 12ms/step - loss: 0.7868\n",
      "Epoch 5/50\n",
      "1/1 [==============================] - 0s 5ms/step - loss: 0.7673\n",
      "Epoch 6/50\n",
      "1/1 [==============================] - 0s 5ms/step - loss: 0.7481\n",
      "Epoch 7/50\n",
      "1/1 [==============================] - 0s 6ms/step - loss: 0.7290\n",
      "Epoch 8/50\n",
      "1/1 [==============================] - 0s 5ms/step - loss: 0.7100\n",
      "Epoch 9/50\n",
      "1/1 [==============================] - 0s 5ms/step - loss: 0.6913\n",
      "Epoch 10/50\n",
      "1/1 [==============================] - 0s 7ms/step - loss: 0.6757\n",
      "Epoch 11/50\n",
      "1/1 [==============================] - 0s 4ms/step - loss: 0.6618\n",
      "Epoch 12/50\n",
      "1/1 [==============================] - 0s 4ms/step - loss: 0.6478\n",
      "Epoch 13/50\n",
      "1/1 [==============================] - 0s 4ms/step - loss: 0.6338\n",
      "Epoch 14/50\n",
      "1/1 [==============================] - 0s 6ms/step - loss: 0.6200\n",
      "Epoch 15/50\n",
      "1/1 [==============================] - 0s 5ms/step - loss: 0.6059\n",
      "Epoch 16/50\n",
      "1/1 [==============================] - 0s 4ms/step - loss: 0.5911\n",
      "Epoch 17/50\n",
      "1/1 [==============================] - 0s 0s/step - loss: 0.5764\n",
      "Epoch 18/50\n",
      "1/1 [==============================] - 0s 16ms/step - loss: 0.5621\n",
      "Epoch 19/50\n",
      "1/1 [==============================] - 0s 6ms/step - loss: 0.5476\n",
      "Epoch 20/50\n",
      "1/1 [==============================] - 0s 5ms/step - loss: 0.5331\n",
      "Epoch 21/50\n",
      "1/1 [==============================] - 0s 4ms/step - loss: 0.5189\n",
      "Epoch 22/50\n",
      "1/1 [==============================] - 0s 4ms/step - loss: 0.5051\n",
      "Epoch 23/50\n",
      "1/1 [==============================] - 0s 6ms/step - loss: 0.4914\n",
      "Epoch 24/50\n",
      "1/1 [==============================] - 0s 5ms/step - loss: 0.4777\n",
      "Epoch 25/50\n",
      "1/1 [==============================] - 0s 4ms/step - loss: 0.4641\n",
      "Epoch 26/50\n",
      "1/1 [==============================] - 0s 4ms/step - loss: 0.4507\n",
      "Epoch 27/50\n",
      "1/1 [==============================] - 0s 4ms/step - loss: 0.4374\n",
      "Epoch 28/50\n",
      "1/1 [==============================] - 0s 6ms/step - loss: 0.4245\n",
      "Epoch 29/50\n",
      "1/1 [==============================] - 0s 15ms/step - loss: 0.4125\n",
      "Epoch 30/50\n",
      "1/1 [==============================] - 0s 5ms/step - loss: 0.4010\n",
      "Epoch 31/50\n",
      "1/1 [==============================] - 0s 6ms/step - loss: 0.3899\n",
      "Epoch 32/50\n",
      "1/1 [==============================] - 0s 5ms/step - loss: 0.3792\n",
      "Epoch 33/50\n",
      "1/1 [==============================] - 0s 6ms/step - loss: 0.3687\n",
      "Epoch 34/50\n",
      "1/1 [==============================] - 0s 5ms/step - loss: 0.3584\n",
      "Epoch 35/50\n",
      "1/1 [==============================] - 0s 5ms/step - loss: 0.3485\n",
      "Epoch 36/50\n",
      "1/1 [==============================] - 0s 7ms/step - loss: 0.3386\n",
      "Epoch 37/50\n",
      "1/1 [==============================] - 0s 5ms/step - loss: 0.3288\n",
      "Epoch 38/50\n",
      "1/1 [==============================] - 0s 4ms/step - loss: 0.3189\n",
      "Epoch 39/50\n",
      "1/1 [==============================] - 0s 5ms/step - loss: 0.3092\n",
      "Epoch 40/50\n",
      "1/1 [==============================] - 0s 9ms/step - loss: 0.2995\n",
      "Epoch 41/50\n",
      "1/1 [==============================] - 0s 5ms/step - loss: 0.2899\n",
      "Epoch 42/50\n",
      "1/1 [==============================] - 0s 4ms/step - loss: 0.2803\n",
      "Epoch 43/50\n",
      "1/1 [==============================] - 0s 5ms/step - loss: 0.2708\n",
      "Epoch 44/50\n",
      "1/1 [==============================] - 0s 4ms/step - loss: 0.2615\n",
      "Epoch 45/50\n",
      "1/1 [==============================] - 0s 5ms/step - loss: 0.2524\n",
      "Epoch 46/50\n",
      "1/1 [==============================] - 0s 4ms/step - loss: 0.2433\n",
      "Epoch 47/50\n",
      "1/1 [==============================] - 0s 5ms/step - loss: 0.2345\n",
      "Epoch 48/50\n",
      "1/1 [==============================] - 0s 4ms/step - loss: 0.2260\n",
      "Epoch 49/50\n",
      "1/1 [==============================] - 0s 5ms/step - loss: 0.2176\n",
      "Epoch 50/50\n",
      "1/1 [==============================] - 0s 5ms/step - loss: 0.2094\n"
     ]
    },
    {
     "data": {
      "text/plain": [
       "<keras.callbacks.History at 0x16b1b2a6fa0>"
      ]
     },
     "execution_count": 273,
     "metadata": {},
     "output_type": "execute_result"
    }
   ],
   "source": [
    "batch_size = 64\n",
    "n_epochs = 50\n",
    "nn_reg.fit(X_train, y_train, epochs=n_epochs, batch_size=batch_size)"
   ]
  },
  {
   "cell_type": "code",
   "execution_count": 274,
   "id": "7a95d213",
   "metadata": {},
   "outputs": [
    {
     "name": "stdout",
     "output_type": "stream",
     "text": [
      "\n",
      "Train MSE: 0.20147215062258503 \n",
      "\n",
      "Val MSE: 0.4982778943015799 \n",
      "\n",
      "Test MSE: 0.18720980631961423\n",
      "\n"
     ]
    }
   ],
   "source": [
    "from sklearn.metrics import mean_squared_error\n",
    "\n",
    "y_pred_train = nn_reg.predict(X_train)\n",
    "y_pred_val = nn_reg.predict(X_vali)\n",
    "y_pred_test  = nn_reg.predict(X_test)\n",
    "\n",
    "train_mse = mean_squared_error(y_true=y_train, y_pred=y_pred_train)\n",
    "val_mse = mean_squared_error(y_true=y_vali, y_pred=y_pred_val)\n",
    "test_mse = mean_squared_error(y_true=y_test, y_pred=y_pred_test)\n",
    "\n",
    "print(f'''\n",
    "Train MSE: {train_mse} \\n\n",
    "Val MSE: {val_mse} \\n\n",
    "Test MSE: {test_mse}\n",
    "''')\n"
   ]
  },
  {
   "cell_type": "code",
   "execution_count": 275,
   "id": "b40dd531",
   "metadata": {},
   "outputs": [
    {
     "data": {
      "text/plain": [
       "<AxesSubplot:>"
      ]
     },
     "execution_count": 275,
     "metadata": {},
     "output_type": "execute_result"
    },
    {
     "data": {
      "image/png": "[encoded data removed]",
      "text/plain": [
       "<Figure size 720x360 with 3 Axes>"
      ]
     },
     "metadata": {
      "needs_background": "light"
     },
     "output_type": "display_data"
    }
   ],
   "source": [
    "import matplotlib.pyplot as plt\n",
    "import seaborn as sns\n",
    "\n",
    "fig, ax = plt.subplots(1, 3, figsize=(10,5))\n",
    "sns.regplot(x=y_train, y=y_pred_train, ax=ax[0])\n",
    "sns.regplot(x=y_vali,  y=y_pred_val,   ax=ax[1])\n",
    "sns.regplot(x=y_test,  y=y_pred_test,  ax=ax[2])"
   ]
  },
  {
   "cell_type": "markdown",
   "id": "19babdb0",
   "metadata": {},
   "source": [
    "The model looks like it's performing well, despite the sample sizes being quite small. If the model appeared to be struggling, I may consider attempting to bootstrap the data. However, in such a case, I'd imagine that I should be careful to make sure certain observations are not included in the bootstap so that they can be used for test/validation. By my logic, this would keep test data from leaking into the training data. Regardless, the step doesn't appear to be necessary.\n",
    "\n",
    "The split function I built is definately a little overkill, but it was built with the idea that I'll probably be reusing it a lot--thus, I favored features over simplicity. "
   ]
  }
 ],
 "metadata": {
  "kernelspec": {
   "display_name": "Python 3 (ipykernel)",
   "language": "python",
   "name": "python3"
  },
  "language_info": {
   "codemirror_mode": {
    "name": "ipython",
    "version": 3
   },
   "file_extension": ".py",
   "mimetype": "text/x-python",
   "name": "python",
   "nbconvert_exporter": "python",
   "pygments_lexer": "ipython3",
   "version": "3.9.7"
  }
 },
 "nbformat": 4,
 "nbformat_minor": 5
}
