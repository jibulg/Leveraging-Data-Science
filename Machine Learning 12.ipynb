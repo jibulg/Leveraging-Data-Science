{
 "cells": [
  {
   "cell_type": "markdown",
   "metadata": {},
   "source": [
    "===========================================\n",
    "\n",
    "\n",
    "Gebil Jibul\n",
    "\n",
    "\n",
    "Description: This program demonstrates the the deployment of a pre-trained deep learning image recognition model over the REST-based web service 'Falcon web server.'\n",
    "\n",
    "=========================================== "
   ]
  },
  {
   "cell_type": "markdown",
   "metadata": {},
   "source": [
    "# Deploying Machine Learning Models\n",
    "\n",
    "This project will create a REST-based web service that deploys a pre-trained deep learning image recognition model from Keras.  I will use the [Falcon Web Framework](https://falcon.readthedocs.io/en/stable/) to create a simple REST API and the [Requests library](https://docs.python-requests.org/en/latest/) to make API requests. \n",
    "\n",
    "I will use two Jupyter notebooks to implement the code for this assignment. `Project 12.ipynb` (this notebook) is where I implement the server-side code, and ` Project 12a.ipynb` is the client code used to test the server. The client-side code is for testing purposes only. "
   ]
  },
  {
   "cell_type": "markdown",
   "metadata": {},
   "source": [
    "Here I will create a REST-based web service that takes in an image URL as a parameter and returns a JSON-formatted response. "
   ]
  },
  {
   "cell_type": "code",
   "execution_count": 17,
   "metadata": {},
   "outputs": [],
   "source": [
    "from wsgiref.simple_server import make_server\n",
    "import falcon\n",
    "\n",
    "# Falcon follows the REST architectural style, meaning (among\n",
    "# other things) that you think in terms of resources and state\n",
    "# transitions, which map to HTTP verbs.\n",
    "class ClassifyResourceV1:\n",
    "    def on_get(self, req, resp):\n",
    "        # Gets the img query parameter\n",
    "        img_url = req.get_param('img')\n",
    "        # Creates a result dictionary with a single entry\n",
    "        result = dict(src_img=img_url)\n",
    "        # Sets the response content to the result dictionary\n",
    "        resp.media = result\n",
    "        \"\"\"Handles GET requests\"\"\"\n",
    "        resp.status = falcon.HTTP_200  # This is the default status\n",
    "\n",
    "        \n",
    "# falcon.App instances are callable WSGI apps\n",
    "# in larger applications the app is created in a separate file\n",
    "app_v1 = falcon.App()\n",
    "\n",
    "# Resources are represented by long-lived class instances\n",
    "classify_v1 = ClassifyResourceV1()\n",
    "\n",
    "# things will handle all requests to the '/classify' URL path\n",
    "app_v1.add_route('/classify', classify_v1)"
   ]
  },
  {
   "cell_type": "markdown",
   "metadata": {},
   "source": [
    "Below is a function that runs a Falcon app. I will use it to run `app_v1` and `app_v2`. "
   ]
  },
  {
   "cell_type": "code",
   "execution_count": 18,
   "metadata": {},
   "outputs": [],
   "source": [
    "def run_server(app):\n",
    "    with make_server('', 9999, app) as httpd:\n",
    "        print('Serving on port 9999...')\n",
    "\n",
    "        # Serve until process is killed\n",
    "        try:\n",
    "            httpd.serve_forever()\n",
    "        except KeyboardInterrupt:\n",
    "            print('Stopping web server')"
   ]
  },
  {
   "cell_type": "markdown",
   "metadata": {},
   "source": [
    "Run `run_server(app_v1)` in the cell below. This function will run until manually stopped. With this cell running, open `Assignment 12a_client.ipynb` and test the server. Once you finish testing, stop the cell from running. "
   ]
  },
  {
   "cell_type": "code",
   "execution_count": null,
   "metadata": {},
   "outputs": [],
   "source": [
    "run_server(app_v1)"
   ]
  },
  {
   "cell_type": "markdown",
   "metadata": {},
   "source": [
    "<p>Serving on port 9999...</p>\n",
    "<p>127.0.0.1 - - [24/Feb/2022 02:53:07] \"GET /classify?img=https%3A%2F%2Fpicsum.photos%2F200%2F300 HTTP/1.1\" 200 44</p>"
   ]
  },
  {
   "cell_type": "markdown",
   "metadata": {},
   "source": [
    "Now I will implement a function that makes image classification predictions based on an image URL.  "
   ]
  },
  {
   "cell_type": "code",
   "execution_count": 19,
   "metadata": {},
   "outputs": [],
   "source": [
    "from pathlib import Path\n",
    "import tempfile\n",
    "\n",
    "from tensorflow.keras.applications.resnet50 import ResNet50\n",
    "from tensorflow.keras.preprocessing import image\n",
    "from tensorflow.keras.applications.resnet50 import preprocess_input, decode_predictions\n",
    "\n",
    "import numpy as np\n",
    "import requests\n",
    "\n",
    "import json\n",
    "\n",
    "# Downloads and loads the ResNetModel\n",
    "model = ResNet50(weights='imagenet')"
   ]
  },
  {
   "cell_type": "markdown",
   "metadata": {},
   "source": [
    "The `load_img_url` function downloads an image to a temporary file and converts it into an object compatible with the ResNet50 model. "
   ]
  },
  {
   "cell_type": "code",
   "execution_count": 25,
   "metadata": {},
   "outputs": [],
   "source": [
    "def load_img_url(img_url, target_size):\n",
    "    r = requests.get(img_url)\n",
    "    if r.status_code != 200:\n",
    "        print('Could not download image')\n",
    "        return None\n",
    "    \n",
    "    img_suffix = '.{}'.format(img_url.split('.')[-1])\n",
    "    \n",
    "    with tempfile.NamedTemporaryFile(suffix=img_suffix, delete=False) as fp:\n",
    "        fp.write(r.content)\n",
    "        tf_path = Path(fp.name)\n",
    "        img = image.load_img(tf_path, target_size=target_size)\n",
    "    \n",
    "    return img"
   ]
  },
  {
   "cell_type": "code",
   "execution_count": 26,
   "metadata": {},
   "outputs": [],
   "source": [
    "def make_prediction(model, img_url, target_size=(224, 224), top=5):\n",
    "    result = dict(src_img=img_url)\n",
    "    img = load_img_url(img_url, target_size)\n",
    "    x = image.img_to_array(img)\n",
    "    x = np.expand_dims(x, axis=0)\n",
    "    x = preprocess_input(x)\n",
    "    \n",
    "    preds = model.predict(x)\n",
    "    \n",
    "    result['predictions'] = []\n",
    "\n",
    "    for class_name, class_description, score in decode_predictions(preds, top=top)[0]:\n",
    "        result['predictions'].append(dict(\n",
    "            class_name=str(class_name),\n",
    "            class_description=str(class_description),\n",
    "            score=float(score)\n",
    "        ))\n",
    "        \n",
    "    return result    "
   ]
  },
  {
   "cell_type": "markdown",
   "metadata": {},
   "source": [
    "Test the `make_prediction` function using a collection of image URLs.  Note: You may experience an error of the form `UnidentifiedImageError: cannot identify image file <_io.BytesIO object at 0x15a8acc20>`.  Remove the offending image URL and try a different image. \n",
    "\n",
    "For testing purposes, this function outputs the following result for https://stardewvalleywiki.com/mediawiki/images/9/93/Greenhouse.png. \n",
    "\n",
    "```json\n",
    "{\n",
    "  \"src_img\": \"https://stardewvalleywiki.com/mediawiki/images/9/93/Greenhouse.png\",\n",
    "  \"predictions\": [\n",
    "    {\n",
    "      \"class_name\": \"n04201297\",\n",
    "      \"class_description\": \"shoji\",\n",
    "      \"score\": 0.3795466423034668\n",
    "    },\n",
    "    {\n",
    "      \"class_name\": \"n02788148\",\n",
    "      \"class_description\": \"bannister\",\n",
    "      \"score\": 0.1699788123369217\n",
    "    },\n",
    "    {\n",
    "      \"class_name\": \"n04589890\",\n",
    "      \"class_description\": \"window_screen\",\n",
    "      \"score\": 0.07670347392559052\n",
    "    },\n",
    "    {\n",
    "      \"class_name\": \"n06359193\",\n",
    "      \"class_description\": \"web_site\",\n",
    "      \"score\": 0.06704317778348923\n",
    "    },\n",
    "    {\n",
    "      \"class_name\": \"n04590129\",\n",
    "      \"class_description\": \"window_shade\",\n",
    "      \"score\": 0.03521980345249176\n",
    "    }\n",
    "  ]\n",
    "}\n",
    "```"
   ]
  },
  {
   "cell_type": "code",
   "execution_count": 31,
   "metadata": {},
   "outputs": [
    {
     "name": "stdout",
     "output_type": "stream",
     "text": [
      "-----------------------------\n",
      "\n",
      "{\n",
      "  \"src_img\": \"https://stardewvalleywiki.com/mediawiki/images/a/a4/Banner_Right_Winter.png\",\n",
      "  \"predictions\": [\n",
      "    {\n",
      "      \"class_name\": \"n03028079\",\n",
      "      \"class_description\": \"church\",\n",
      "      \"score\": 0.6010048985481262\n",
      "    },\n",
      "    {\n",
      "      \"class_name\": \"n03854065\",\n",
      "      \"class_description\": \"organ\",\n",
      "      \"score\": 0.26581016182899475\n",
      "    },\n",
      "    {\n",
      "      \"class_name\": \"n04366367\",\n",
      "      \"class_description\": \"suspension_bridge\",\n",
      "      \"score\": 0.017505483701825142\n",
      "    },\n",
      "    {\n",
      "      \"class_name\": \"n04523525\",\n",
      "      \"class_description\": \"vault\",\n",
      "      \"score\": 0.015335975214838982\n",
      "    },\n",
      "    {\n",
      "      \"class_name\": \"n02793495\",\n",
      "      \"class_description\": \"barn\",\n",
      "      \"score\": 0.013667377643287182\n",
      "    }\n",
      "  ]\n",
      "}\n",
      "-----------------------------\n",
      "\n",
      "-----------------------------\n",
      "\n",
      "{\n",
      "  \"src_img\": \"https://www.stardewvalley.net/wp-content/uploads/2018/12/1_1screenshot15.png\",\n",
      "  \"predictions\": [\n",
      "    {\n",
      "      \"class_name\": \"n03598930\",\n",
      "      \"class_description\": \"jigsaw_puzzle\",\n",
      "      \"score\": 0.985321581363678\n",
      "    },\n",
      "    {\n",
      "      \"class_name\": \"n02699494\",\n",
      "      \"class_description\": \"altar\",\n",
      "      \"score\": 0.007495794910937548\n",
      "    },\n",
      "    {\n",
      "      \"class_name\": \"n03028079\",\n",
      "      \"class_description\": \"church\",\n",
      "      \"score\": 0.0027745263651013374\n",
      "    },\n",
      "    {\n",
      "      \"class_name\": \"n03388043\",\n",
      "      \"class_description\": \"fountain\",\n",
      "      \"score\": 0.002160582924261689\n",
      "    },\n",
      "    {\n",
      "      \"class_name\": \"n03877845\",\n",
      "      \"class_description\": \"palace\",\n",
      "      \"score\": 0.0007866369560360909\n",
      "    }\n",
      "  ]\n",
      "}\n",
      "-----------------------------\n",
      "\n"
     ]
    }
   ],
   "source": [
    "# Test the `make_prediction` function using img_urls\n",
    "# Add img_urls for testing\n",
    "img_urls = ['https://stardewvalleywiki.com/mediawiki/images/a/a4/Banner_Right_Winter.png',\n",
    "            'https://www.stardewvalley.net/wp-content/uploads/2018/12/1_1screenshot15.png']\n",
    "\n",
    "for img_url in img_urls:\n",
    "    result = make_prediction(model, img_url)\n",
    "    print('-----------------------------')\n",
    "    print('')\n",
    "    # Prints a pretty version of the result\n",
    "    print(json.dumps(result, indent=2))\n",
    "    print('-----------------------------')\n",
    "    print()"
   ]
  },
  {
   "cell_type": "markdown",
   "metadata": {},
   "source": [
    "This part of the assignment combines the two previous steps. Implement `ClassifyResourceV2` that includes the`make_prediction` function. "
   ]
  },
  {
   "cell_type": "code",
   "execution_count": 34,
   "metadata": {},
   "outputs": [],
   "source": [
    "class ClassifyResourceV2:\n",
    "    def on_get(self, req, resp):\n",
    "        # TODO: Implement the code to handle the GET requests\n",
    "        \n",
    "        # Gets the img query parameter\n",
    "        img_url = req.get_param('img')\n",
    "        # Creates a result dictionary with a single entry\n",
    "        result = dict(src_img=img_url)\n",
    "        # Sets the response content to the result dictionary\n",
    "        resp.media = result\n",
    "        \"\"\"Handles GET requests\"\"\"\n",
    "        resp.status = falcon.HTTP_200  # This is the default status\n",
    "        \n",
    "        # Makes prediction and prints\n",
    "        result = make_prediction(model, img_url)\n",
    "        print('-'*25,'\\n')\n",
    "        # Prints a pretty version of the result\n",
    "        print(json.dumps(result, indent=2))\n",
    "        print('-'*25,'\\n')\n",
    "\n",
    "\n",
    "app_v2 = falcon.App()\n",
    "\n",
    "classify_v2 = ClassifyResourceV2()\n",
    "\n",
    "app_v2.add_route('/classify', classify_v2)"
   ]
  },
  {
   "cell_type": "markdown",
   "metadata": {},
   "source": [
    "Once finished, run `app_v2` using the `run_server(app_v2)`.  This function will run until manually stopped. With this cell running, open 12a_client.ipynb and test the server. Once finish testing, stop the cell from running."
   ]
  },
  {
   "cell_type": "code",
   "execution_count": 35,
   "metadata": {},
   "outputs": [
    {
     "name": "stdout",
     "output_type": "stream",
     "text": [
      "Serving on port 9999...\n",
      "------------------------- \n",
      "\n",
      "{\n",
      "  \"src_img\": \"https://stardewvalleywiki.com/mediawiki/images/a/a4/Banner_Right_Winter.png\",\n",
      "  \"predictions\": [\n",
      "    {\n",
      "      \"class_name\": \"n03028079\",\n",
      "      \"class_description\": \"church\",\n",
      "      \"score\": 0.6010048985481262\n",
      "    },\n",
      "    {\n",
      "      \"class_name\": \"n03854065\",\n",
      "      \"class_description\": \"organ\",\n",
      "      \"score\": 0.26581016182899475\n",
      "    },\n",
      "    {\n",
      "      \"class_name\": \"n04366367\",\n",
      "      \"class_description\": \"suspension_bridge\",\n",
      "      \"score\": 0.017505483701825142\n",
      "    },\n",
      "    {\n",
      "      \"class_name\": \"n04523525\",\n",
      "      \"class_description\": \"vault\",\n",
      "      \"score\": 0.015335975214838982\n",
      "    },\n",
      "    {\n",
      "      \"class_name\": \"n02793495\",\n",
      "      \"class_description\": \"barn\",\n",
      "      \"score\": 0.013667377643287182\n",
      "    }\n",
      "  ]\n",
      "}\n",
      "------------------------- \n",
      "\n"
     ]
    },
    {
     "name": "stderr",
     "output_type": "stream",
     "text": [
      "127.0.0.1 - - [24/Feb/2022 03:34:52] \"GET /classify?img=https%3A%2F%2Fstardewvalleywiki.com%2Fmediawiki%2Fimages%2Fa%2Fa4%2FBanner_Right_Winter.png HTTP/1.1\" 200 90\n"
     ]
    },
    {
     "name": "stdout",
     "output_type": "stream",
     "text": [
      "------------------------- \n",
      "\n",
      "{\n",
      "  \"src_img\": \"https://www.stardewvalley.net/wp-content/uploads/2018/12/1_1screenshot15.png\",\n",
      "  \"predictions\": [\n",
      "    {\n",
      "      \"class_name\": \"n03598930\",\n",
      "      \"class_description\": \"jigsaw_puzzle\",\n",
      "      \"score\": 0.985321581363678\n",
      "    },\n",
      "    {\n",
      "      \"class_name\": \"n02699494\",\n",
      "      \"class_description\": \"altar\",\n",
      "      \"score\": 0.007495794910937548\n",
      "    },\n",
      "    {\n",
      "      \"class_name\": \"n03028079\",\n",
      "      \"class_description\": \"church\",\n",
      "      \"score\": 0.0027745263651013374\n",
      "    },\n",
      "    {\n",
      "      \"class_name\": \"n03388043\",\n",
      "      \"class_description\": \"fountain\",\n",
      "      \"score\": 0.002160582924261689\n",
      "    },\n",
      "    {\n",
      "      \"class_name\": \"n03877845\",\n",
      "      \"class_description\": \"palace\",\n",
      "      \"score\": 0.0007866369560360909\n",
      "    }\n",
      "  ]\n",
      "}\n",
      "------------------------- \n",
      "\n"
     ]
    },
    {
     "name": "stderr",
     "output_type": "stream",
     "text": [
      "127.0.0.1 - - [24/Feb/2022 03:35:04] \"GET /classify?img=https%3A%2F%2Fwww.stardewvalley.net%2Fwp-content%2Fuploads%2F2018%2F12%2F1_1screenshot15.png HTTP/1.1\" 200 91\n"
     ]
    },
    {
     "name": "stdout",
     "output_type": "stream",
     "text": [
      "Stopping web server\n"
     ]
    }
   ],
   "source": [
    "run_server(app_v2)"
   ]
  },
  {
   "cell_type": "markdown",
   "metadata": {},
   "source": [
    "Serving on port 9999...\n",
    "------------------------- \n",
    "\n",
    "{\n",
    "  \"src_img\": \"https://stardewvalleywiki.com/mediawiki/images/a/a4/Banner_Right_Winter.png\",\n",
    "  \"predictions\": [\n",
    "    {\n",
    "      \"class_name\": \"n03028079\",\n",
    "      \"class_description\": \"church\",\n",
    "      \"score\": 0.6010048985481262\n",
    "    },\n",
    "    {\n",
    "      \"class_name\": \"n03854065\",\n",
    "      \"class_description\": \"organ\",\n",
    "      \"score\": 0.26581016182899475\n",
    "    },\n",
    "    {\n",
    "      \"class_name\": \"n04366367\",\n",
    "      \"class_description\": \"suspension_bridge\",\n",
    "      \"score\": 0.017505483701825142\n",
    "    },\n",
    "    {\n",
    "      \"class_name\": \"n04523525\",\n",
    "      \"class_description\": \"vault\",\n",
    "      \"score\": 0.015335975214838982\n",
    "    },\n",
    "    {\n",
    "      \"class_name\": \"n02793495\",\n",
    "      \"class_description\": \"barn\",\n",
    "      \"score\": 0.013667377643287182\n",
    "    }\n",
    "  ]\n",
    "}\n",
    "------------------------- \n",
    "\n",
    "127.0.0.1 - - [24/Feb/2022 03:34:52] \"GET /classify?img=https%3A%2F%2Fstardewvalleywiki.com%2Fmediawiki%2Fimages%2Fa%2Fa4%2FBanner_Right_Winter.png HTTP/1.1\" 200 90\n",
    "------------------------- \n",
    "\n",
    "{\n",
    "  \"src_img\": \"https://www.stardewvalley.net/wp-content/uploads/2018/12/1_1screenshot15.png\",\n",
    "  \"predictions\": [\n",
    "    {\n",
    "      \"class_name\": \"n03598930\",\n",
    "      \"class_description\": \"jigsaw_puzzle\",\n",
    "      \"score\": 0.985321581363678\n",
    "    },\n",
    "    {\n",
    "      \"class_name\": \"n02699494\",\n",
    "      \"class_description\": \"altar\",\n",
    "      \"score\": 0.007495794910937548\n",
    "    },\n",
    "    {\n",
    "      \"class_name\": \"n03028079\",\n",
    "      \"class_description\": \"church\",\n",
    "      \"score\": 0.0027745263651013374\n",
    "    },\n",
    "    {\n",
    "      \"class_name\": \"n03388043\",\n",
    "      \"class_description\": \"fountain\",\n",
    "      \"score\": 0.002160582924261689\n",
    "    },\n",
    "    {\n",
    "      \"class_name\": \"n03877845\",\n",
    "      \"class_description\": \"palace\",\n",
    "      \"score\": 0.0007866369560360909\n",
    "    }\n",
    "  ]\n",
    "}\n",
    "------------------------- \n",
    "\n",
    "127.0.0.1 - - [24/Feb/2022 03:35:04] \"GET /classify?img=https%3A%2F%2Fwww.stardewvalley.net%2Fwp-content%2Fuploads%2F2018%2F12%2F1_1screenshot15.png HTTP/1.1\" 200 91\n",
    "Stopping web server"
   ]
  }
 ],
 "metadata": {
  "kernelspec": {
   "display_name": "Python 3 (ipykernel)",
   "language": "python",
   "name": "python3"
  },
  "language_info": {
   "codemirror_mode": {
    "name": "ipython",
    "version": 3
   },
   "file_extension": ".py",
   "mimetype": "text/x-python",
   "name": "python",
   "nbconvert_exporter": "python",
   "pygments_lexer": "ipython3",
   "version": "3.9.7"
  }
 },
 "nbformat": 4,
 "nbformat_minor": 4
}
